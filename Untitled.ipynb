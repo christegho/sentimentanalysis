{
 "cells": [
  {
   "cell_type": "markdown",
   "metadata": {},
   "source": [
    "Import Packages"
   ]
  },
  {
   "cell_type": "code",
   "execution_count": 4,
   "metadata": {
    "collapsed": false
   },
   "outputs": [],
   "source": [
    "import sys\n",
    "from tokenizeNgrams import *\n",
    "\n",
    "from sklearn.feature_extraction.text import TfidfVectorizer\n",
    "from sklearn import svm\n",
    "from sklearn.metrics import classification_report\n",
    "from sklearn.feature_extraction.text import CountVectorizer\n",
    "from sklearn.naive_bayes import MultinomialNB\n",
    "\n",
    "from getDocLabels import *\n",
    "from splitDocs import *\n",
    "from svmClassifyIdf import *\n",
    "from getSignificance import *\n",
    "\n",
    "import numpy as np"
   ]
  },
  {
   "cell_type": "markdown",
   "metadata": {},
   "source": [
    "Get Training Documents"
   ]
  },
  {
   "cell_type": "code",
   "execution_count": 8,
   "metadata": {
    "collapsed": true
   },
   "outputs": [],
   "source": [
    "posindir = os.path.abspath('') + '\\\\POS'\n",
    "negindir = os.path.abspath('') + '\\\\NEG'\n",
    "\n",
    "trainPosDocs = getDocLabels(posindir)\n",
    "trainNegDocs = getDocLabels(negindir)"
   ]
  },
  {
   "cell_type": "code",
   "execution_count": 6,
   "metadata": {
    "collapsed": true
   },
   "outputs": [],
   "source": [
    "stemmer = False\n",
    "negation = False\n",
    "ngram = [1,2,3]"
   ]
  },
  {
   "cell_type": "markdown",
   "metadata": {},
   "source": [
    "Vectorize Training Data"
   ]
  },
  {
   "cell_type": "code",
   "execution_count": 22,
   "metadata": {
    "collapsed": false
   },
   "outputs": [],
   "source": [
    "trainData = []\n",
    "trainLabels = []\n",
    "\n",
    "for fname in trainPosDocs:\n",
    "    with open(posindir+ '/' + fname, 'r') as f:\n",
    "        content = f.read()\n",
    "        tokens = tokenizeNgrams(content, ngram, stemmer, negation)\n",
    "        trainData.append(' '.join(tokens))\n",
    "        trainLabels.append(1)\n",
    "\n",
    "\n",
    "for fname in trainNegDocs:\n",
    "    with open(negindir+ '/' + fname, 'r') as f:\n",
    "        content = f.read()\n",
    "        tokens = tokenizeNgrams(content, ngram, stemmer, negation)\n",
    "        trainData.append(' '.join(tokens))\n",
    "        trainLabels.append(0)\n",
    "\n",
    "\n",
    "vectorizer = TfidfVectorizer(min_df=5,max_df = 0.8, sublinear_tf=True,use_idf=True, ngram_range = (1,3))\n",
    "trainVectors = vectorizer.fit_transform(trainData)\n",
    "        "
   ]
  },
  {
   "cell_type": "markdown",
   "metadata": {},
   "source": [
    "Train SVM"
   ]
  },
  {
   "cell_type": "code",
   "execution_count": 14,
   "metadata": {
    "collapsed": false
   },
   "outputs": [
    {
     "data": {
      "text/plain": [
       "MultinomialNB(alpha=1.0, class_prior=None, fit_prior=True)"
      ]
     },
     "execution_count": 14,
     "metadata": {},
     "output_type": "execute_result"
    }
   ],
   "source": [
    "classifierSVM = svm.LinearSVC()\n",
    "classifierSVM.fit(trainVectors, trainLabels)\n",
    "\n",
    "classifierMNB = MultinomialNB()\n",
    "classifierMNB.fit(trainVectors, trainLabels)"
   ]
  },
  {
   "cell_type": "markdown",
   "metadata": {},
   "source": [
    "Testing"
   ]
  },
  {
   "cell_type": "code",
   "execution_count": 30,
   "metadata": {
    "collapsed": false
   },
   "outputs": [
    {
     "name": "stdout",
     "output_type": "stream",
     "text": [
      "[1 1]\n",
      "[ 0.06611494  0.17488139]\n",
      "[1 1]\n",
      "[[ 0.40139447  0.59860553]\n",
      " [ 0.36214518  0.63785482]]\n"
     ]
    }
   ],
   "source": [
    "posindirDemo = os.path.abspath('') + '\\\\POSDEMO'\n",
    "negindirDemo = os.path.abspath('') + '\\\\NEGDEMO'\n",
    "\n",
    "testPosDocs = getDocLabels(posindirDemo)\n",
    "testNegDocs = getDocLabels(negindirDemo)\n",
    "testData = []\n",
    "testLabels = []\n",
    "\n",
    "for fname in testPosDocs:\n",
    "        with open(posindirDemo+ '/' + fname, 'r') as f:\n",
    "            content = f.read()\n",
    "            tokens = tokenizeNgrams(content, ngram, stemmer, negation)\n",
    "            testData.append(' '.join(tokens))\n",
    "            testLabels.append(1)\n",
    "\n",
    "for fname in testNegDocs:\n",
    "    with open(negindirDemo+ '/' + fname, 'r') as f:\n",
    "        content = f.read()\n",
    "        tokens = tokenizeNgrams(content, ngram, stemmer, negation)\n",
    "        testData.append(' '.join(tokens))\n",
    "        testLabels.append(0)\n",
    "\n",
    "testVectors = vectorizer.transform(testData)\n",
    "\n",
    "predictionSVM = classifierSVM.predict(testVectors)\n",
    "print(predictionSVM)\n",
    "print(classifierSVM.decision_function(testVectors))\n",
    "\n",
    "\n",
    "predictionMNB = classifierMNB.predict(testVectors)\n",
    "print(predictionMNB)\n",
    "print(classifierMNB.predict_proba(testVectors))\n",
    "\n"
   ]
  },
  {
   "cell_type": "code",
   "execution_count": null,
   "metadata": {
    "collapsed": true
   },
   "outputs": [],
   "source": []
  }
 ],
 "metadata": {
  "kernelspec": {
   "display_name": "Python [default]",
   "language": "python",
   "name": "python3"
  },
  "language_info": {
   "codemirror_mode": {
    "name": "ipython",
    "version": 3
   },
   "file_extension": ".py",
   "mimetype": "text/x-python",
   "name": "python",
   "nbconvert_exporter": "python",
   "pygments_lexer": "ipython3",
   "version": "3.5.2"
  }
 },
 "nbformat": 4,
 "nbformat_minor": 1
}
