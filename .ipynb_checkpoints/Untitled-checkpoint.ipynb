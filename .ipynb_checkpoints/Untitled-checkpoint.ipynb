{
 "cells": [
  {
   "cell_type": "markdown",
   "metadata": {},
   "source": [
    "Import Packages"
   ]
  },
  {
   "cell_type": "code",
   "execution_count": 4,
   "metadata": {
    "collapsed": false
   },
   "outputs": [],
   "source": [
    "import sys\n",
    "from tokenizeNgrams import *\n",
    "\n",
    "from sklearn.feature_extraction.text import TfidfVectorizer\n",
    "from sklearn import svm\n",
    "from sklearn.metrics import classification_report\n",
    "from sklearn.feature_extraction.text import CountVectorizer\n",
    "from sklearn.naive_bayes import MultinomialNB\n",
    "\n",
    "from getDocLabels import *\n",
    "from splitDocs import *\n",
    "from svmClassifyIdf import *\n",
    "from getSignificance import *\n",
    "\n",
    "import numpy as np"
   ]
  },
  {
   "cell_type": "markdown",
   "metadata": {},
   "source": [
    "Get Training Documents"
   ]
  },
  {
   "cell_type": "code",
   "execution_count": 8,
   "metadata": {
    "collapsed": true
   },
   "outputs": [],
   "source": [
    "posindir = os.path.abspath('') + '\\\\POS'\n",
    "negindir = os.path.abspath('') + '\\\\NEG'\n",
    "\n",
    "trainPosDocs = getDocLabels(posindir)\n",
    "trainNegDocs = getDocLabels(negindir)"
   ]
  },
  {
   "cell_type": "code",
   "execution_count": 6,
   "metadata": {
    "collapsed": true
   },
   "outputs": [],
   "source": [
    "stemmer = False\n",
    "negation = False\n",
    "ngram = [1,2,3]"
   ]
  },
  {
   "cell_type": "markdown",
   "metadata": {},
   "source": [
    "Vectorize Training Data"
   ]
  },
  {
   "cell_type": "code",
   "execution_count": null,
   "metadata": {
    "collapsed": false
   },
   "outputs": [],
   "source": [
    "trainData = []\n",
    "trainLabels = []\n",
    "\n",
    "for fname in trainPosDocs:\n",
    "    with open(posindir+ '/' + fname, 'r') as f:\n",
    "        content = f.read()\n",
    "        tokens = tokenizeNgrams(content, ngram, stemmer, negation)\n",
    "        trainData.append(' '.join(tokens))\n",
    "        trainLabels.append(1)\n",
    "\n",
    "\n",
    "for fname in trainNegDocs:\n",
    "    with open(negindir+ '/' + fname, 'r') as f:\n",
    "        content = f.read()\n",
    "        tokens = tokenizeNgrams(content, ngram, stemmer, negation)\n",
    "        trainData.append(' '.join(tokens))\n",
    "        trainLabels.append(0)\n",
    "\n",
    "\n",
    "vectorizer = TfidfVectorizer(min_df=5,max_df = 0.8, sublinear_tf=True,use_idf=True, ngram_range = (1,3))\n",
    "trainVectors = vectorizer.fit_transform(trainData)\n",
    "        "
   ]
  },
  {
   "cell_type": "markdown",
   "metadata": {},
   "source": [
    "Train SVM"
   ]
  },
  {
   "cell_type": "code",
   "execution_count": 14,
   "metadata": {
    "collapsed": false
   },
   "outputs": [
    {
     "data": {
      "text/plain": [
       "MultinomialNB(alpha=1.0, class_prior=None, fit_prior=True)"
      ]
     },
     "execution_count": 14,
     "metadata": {},
     "output_type": "execute_result"
    }
   ],
   "source": [
    "classifierSVM = svm.LinearSVC()\n",
    "classifierSVM.fit(trainVectors, trainLabels)\n",
    "\n",
    "classifierMNB = MultinomialNB()\n",
    "classifierMNB.fit(trainVectors, trainLabels)"
   ]
  },
  {
   "cell_type": "markdown",
   "metadata": {},
   "source": [
    "Testing"
   ]
  },
  {
   "cell_type": "code",
   "execution_count": 21,
   "metadata": {
    "collapsed": false
   },
   "outputs": [
    {
     "ename": "FileNotFoundError",
     "evalue": "[Errno 2] No such file or directory: 'C:\\\\Users\\\\chris\\\\Documents\\\\sentimentanalysis\\\\sentimentanalysis\\\\POS/testPos.txt'",
     "output_type": "error",
     "traceback": [
      "\u001b[0;31m---------------------------------------------------------------------------\u001b[0m",
      "\u001b[0;31mFileNotFoundError\u001b[0m                         Traceback (most recent call last)",
      "\u001b[0;32m<ipython-input-21-b3fdd3ba7979>\u001b[0m in \u001b[0;36m<module>\u001b[0;34m()\u001b[0m\n\u001b[1;32m      8\u001b[0m \u001b[1;33m\u001b[0m\u001b[0m\n\u001b[1;32m      9\u001b[0m \u001b[1;32mfor\u001b[0m \u001b[0mfname\u001b[0m \u001b[1;32min\u001b[0m \u001b[0mtestPosDocs\u001b[0m\u001b[1;33m:\u001b[0m\u001b[1;33m\u001b[0m\u001b[0m\n\u001b[0;32m---> 10\u001b[0;31m         \u001b[1;32mwith\u001b[0m \u001b[0mopen\u001b[0m\u001b[1;33m(\u001b[0m\u001b[0mposindir\u001b[0m\u001b[1;33m+\u001b[0m \u001b[1;34m'/'\u001b[0m \u001b[1;33m+\u001b[0m \u001b[0mfname\u001b[0m\u001b[1;33m,\u001b[0m \u001b[1;34m'r'\u001b[0m\u001b[1;33m)\u001b[0m \u001b[1;32mas\u001b[0m \u001b[0mf\u001b[0m\u001b[1;33m:\u001b[0m\u001b[1;33m\u001b[0m\u001b[0m\n\u001b[0m\u001b[1;32m     11\u001b[0m             \u001b[0mcontent\u001b[0m \u001b[1;33m=\u001b[0m \u001b[0mf\u001b[0m\u001b[1;33m.\u001b[0m\u001b[0mread\u001b[0m\u001b[1;33m(\u001b[0m\u001b[1;33m)\u001b[0m\u001b[1;33m\u001b[0m\u001b[0m\n\u001b[1;32m     12\u001b[0m             \u001b[0mtokens\u001b[0m \u001b[1;33m=\u001b[0m \u001b[0mtokenizeNgrams\u001b[0m\u001b[1;33m(\u001b[0m\u001b[0mcontent\u001b[0m\u001b[1;33m,\u001b[0m \u001b[1;33m[\u001b[0m\u001b[1;36m1\u001b[0m\u001b[1;33m]\u001b[0m\u001b[1;33m,\u001b[0m \u001b[0mstemmer\u001b[0m\u001b[1;33m,\u001b[0m \u001b[0mnegation\u001b[0m\u001b[1;33m)\u001b[0m\u001b[1;33m\u001b[0m\u001b[0m\n",
      "\u001b[0;31mFileNotFoundError\u001b[0m: [Errno 2] No such file or directory: 'C:\\\\Users\\\\chris\\\\Documents\\\\sentimentanalysis\\\\sentimentanalysis\\\\POS/testPos.txt'"
     ]
    }
   ],
   "source": [
    "posindirDemo = os.path.abspath('') + '\\\\POSDEMO'\n",
    "negindirDemo = os.path.abspath('') + '\\\\NEGDEMO'\n",
    "\n",
    "testPosDocs = getDocLabels(posindirDemo)\n",
    "testNegDocs = getDocLabels(negindirDemo)\n",
    "testData = []\n",
    "testLabels = []\n",
    "\n",
    "for fname in testPosDocs:\n",
    "        with open(posindir+ '/' + fname, 'r') as f:\n",
    "            content = f.read()\n",
    "            tokens = tokenizeNgrams(content, [1], stemmer, negation)\n",
    "            testData.append(' '.join(tokens))\n",
    "            testLabels.append(1)\n",
    "\n",
    "\n",
    "for fname in testNegDocs:\n",
    "    with open(negindir+ '/' + fname, 'r') as f:\n",
    "        content = f.read()\n",
    "        tokens = tokenizeNgrams(content, [1], stemmer, negation)\n",
    "        testData.append(' '.join(tokens))\n",
    "        testLabels.append(0)\n",
    "\n",
    "testVectors = vectorizer.transform(testData)\n",
    "\n",
    "predictionSVM = classifierSVM.predict(testVectors)\n",
    "print(predictionSVM)\n",
    "print(classifierSVM.decision_function(testVectors))\n",
    "\n",
    "\n",
    "predictionMNB = classifierMNB.predict(testVectors)\n",
    "print(predictionMNB)\n",
    "\n",
    "\n"
   ]
  },
  {
   "cell_type": "code",
   "execution_count": null,
   "metadata": {
    "collapsed": true
   },
   "outputs": [],
   "source": []
  }
 ],
 "metadata": {
  "kernelspec": {
   "display_name": "Python [default]",
   "language": "python",
   "name": "python3"
  },
  "language_info": {
   "codemirror_mode": {
    "name": "ipython",
    "version": 3
   },
   "file_extension": ".py",
   "mimetype": "text/x-python",
   "name": "python",
   "nbconvert_exporter": "python",
   "pygments_lexer": "ipython3",
   "version": "3.5.2"
  }
 },
 "nbformat": 4,
 "nbformat_minor": 1
}
